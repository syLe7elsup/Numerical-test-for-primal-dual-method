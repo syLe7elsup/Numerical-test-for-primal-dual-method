{
 "cells": [
  {
   "cell_type": "code",
   "execution_count": 21,
   "metadata": {},
   "outputs": [],
   "source": [
    "import numpy as np\n",
    "from numpy import linalg as la\n",
    "import matplotlib.pyplot as plt"
   ]
  },
  {
   "cell_type": "code",
   "execution_count": 22,
   "metadata": {},
   "outputs": [],
   "source": [
    "# Generate random matrix A and vector b\n",
    "# Dimensions\n",
    "n, d = 100, 40 # you can change the dimension \n",
    "# Generate synthetic data matrices\n",
    "A = np.random.randn(n, d)\n",
    "# Generate synthetic data vectors\n",
    "b = np.random.randn(n)"
   ]
  },
  {
   "cell_type": "code",
   "execution_count": 84,
   "metadata": {},
   "outputs": [
    {
     "data": {
      "text/plain": [
       "930.9629699682367"
      ]
     },
     "execution_count": 84,
     "metadata": {},
     "output_type": "execute_result"
    }
   ],
   "source": [
    "rho = 2 * max(la.eigvals(2 * A.T @ A))\n",
    "rho"
   ]
  },
  {
   "cell_type": "code",
   "execution_count": 101,
   "metadata": {},
   "outputs": [],
   "source": [
    "def f_1(x):\n",
    "    return la.norm((A @ x).T @ (A @ x) - b.T @ b)"
   ]
  },
  {
   "cell_type": "code",
   "execution_count": 60,
   "metadata": {},
   "outputs": [],
   "source": [
    "def f_2( A, b, x):\n",
    "    sum = 0\n",
    "    for i in range(n):\n",
    "        sum += np.abs((A[i]@x)**2 - b[i]**2)\n",
    "    return sum"
   ]
  },
  {
   "cell_type": "code",
   "execution_count": null,
   "metadata": {},
   "outputs": [],
   "source": [
    "# Value of rho\n",
    "rho = np.min(la.linalg.eigvals(A))"
   ]
  },
  {
   "cell_type": "code",
   "execution_count": 62,
   "metadata": {},
   "outputs": [],
   "source": [
    "def subgradient_2(x):\n",
    "    gradient = np.zeros(x.shape[0])\n",
    "    for i in range(x.shape[0]):\n",
    "        if A[i]@x > b or A[i]@x < -b:\n",
    "            gradient[i] = 2 * A[i]@x\n",
    "        else:\n",
    "            if A[i]@x== -b or A[i]@x == b:\n",
    "                gradient[i] = 0\n",
    "            else:\n",
    "                gradient[i] = - 2 * A[i]@x\n",
    "    return gradient\n"
   ]
  },
  {
   "cell_type": "code",
   "execution_count": 97,
   "metadata": {},
   "outputs": [],
   "source": [
    "def subgradient_1(x):\n",
    "    Ax2 = la.norm(A @ x)**2\n",
    "    b2 = la.norm(b)**2\n",
    "    if Ax2 > b2:\n",
    "        gradient = 2 * A.T @ A @ x\n",
    "    else:\n",
    "        if Ax2 == b2:\n",
    "            gradient = 0\n",
    "        else:\n",
    "            gradient = -2 * 2 * A.T @ A @ x\n",
    "    return gradient"
   ]
  },
  {
   "cell_type": "markdown",
   "metadata": {},
   "source": [
    "Set lambda as a array with length k+1."
   ]
  },
  {
   "cell_type": "code",
   "execution_count": 118,
   "metadata": {},
   "outputs": [],
   "source": [
    "def m_k(x, x_history, function, subgradient, lamb, k):\n",
    "    mk_history = []\n",
    "    fun_val_history = []\n",
    "    sub_history = []\n",
    "    mk_gradient_history = []\n",
    "    nebula_mk_history = []\n",
    "    for i in range(k + 1):\n",
    "        fun_val = function(x_history[i])\n",
    "        fun_val_history.append(fun_val)\n",
    "        sub = subgradient(x_history[i])\n",
    "        sub_history.append(sub)\n",
    "        mk = lamb[i] * fun_val + sub @ (x -  x_history[i]) - rho/2 * la.norm(x-x_history[i])**2\n",
    "        mk_gradient = lamb[i] * (sub_history[i]) - rho * (x-x_history[i])\n",
    "        mk_gradient_history.append(mk_gradient)\n",
    "        Sk = np.sum(lamb[:i+1])\n",
    "        nebula_mk = np.sum(mk_gradient_history[:i])/Sk\n",
    "        nebula_mk_history.append(nebula_mk)\n",
    "        mk_history.append(mk)\n",
    "        mk_sum = np.sum(mk_history)\n",
    "    mk = mk_sum / np.sum(lamb[:k+1])\n",
    "\n",
    "    return mk, x_history, mk_history, sub_history, nebula_mk_history"
   ]
  },
  {
   "cell_type": "markdown",
   "metadata": {},
   "source": [
    "We will set rho_hat as a variable in the following attempts"
   ]
  },
  {
   "cell_type": "code",
   "execution_count": 119,
   "metadata": {},
   "outputs": [],
   "source": [
    "def dual_progress(x0, k, function_val, subgradient, lamb, rho, rho_hat):\n",
    "    x_history = [x0]\n",
    "    x = x0\n",
    "    dual_gap_list = []\n",
    "    for i in range(k):\n",
    "        grad = subgradient(x=x)\n",
    "        x = x - 1/((i+1) *(rho_hat -rho)) * grad\n",
    "        mk = m_k(x = x, x_history= x_history, function = function_val, subgradient = subgradient, lamb = lamb,k = i)\n",
    "        x_history.append(x)\n",
    "        fun_val = function_val(x=x)\n",
    "        prox_gap = fun_val - mk[0]\n",
    "        dual_gap_list.append(prox_gap)\n",
    "        \n",
    "    return mk, fun_val, dual_gap_list\n",
    "        "
   ]
  },
  {
   "cell_type": "code",
   "execution_count": 117,
   "metadata": {},
   "outputs": [],
   "source": [
    "lamb = np.ones(1001)"
   ]
  },
  {
   "cell_type": "code",
   "execution_count": 95,
   "metadata": {},
   "outputs": [],
   "source": [
    "x_random  = np.random.randn(d)"
   ]
  },
  {
   "cell_type": "code",
   "execution_count": 122,
   "metadata": {},
   "outputs": [],
   "source": [
    "m_k_1, f_val_1, dual_gap = dual_progress(x_random, 10, f_1, subgradient_1, lamb, rho,rho+4) \n"
   ]
  },
  {
   "cell_type": "code",
   "execution_count": 124,
   "metadata": {},
   "outputs": [
    {
     "data": {
      "text/plain": [
       "<matplotlib.legend.Legend at 0x137826890>"
      ]
     },
     "execution_count": 124,
     "metadata": {},
     "output_type": "execute_result"
    },
    {
     "data": {
      "image/png": "[encoded data removed]",
      "text/plain": [
       "<Figure size 640x480 with 1 Axes>"
      ]
     },
     "metadata": {},
     "output_type": "display_data"
    }
   ],
   "source": [
    "plt.plot(np.arange(len(dual_gap)), dual_gap, label = 'dual_update')\n",
    "plt.grid(True)\n",
    "plt.ylabel(\"Relative Error\")\n",
    "plt.xlabel(\"iterations\")\n",
    "plt.title('Trajectory')\n",
    "plt.legend()"
   ]
  },
  {
   "cell_type": "code",
   "execution_count": null,
   "metadata": {},
   "outputs": [],
   "source": [
    "x0_far = np.random.normal(0,1,3) * 900"
   ]
  },
  {
   "cell_type": "code",
   "execution_count": null,
   "metadata": {},
   "outputs": [
    {
     "ename": "KeyboardInterrupt",
     "evalue": "",
     "output_type": "error",
     "traceback": [
      "\u001b[0;31m---------------------------------------------------------------------------\u001b[0m",
      "\u001b[0;31mKeyboardInterrupt\u001b[0m                         Traceback (most recent call last)",
      "\u001b[1;32m/Users/abigail/Library/Containers/com.tencent.xinWeChat/Data/Library/Application Support/com.tencent.xinWeChat/2.0b4.0.9/04b0e17b7f03016212f8381c214cc288/Message/MessageTemp/9e20f478899dc29eb19741386f9343c8/File/Primal_Dual_Code2(1).ipynb Cell 15\u001b[0m line \u001b[0;36m1\n\u001b[0;32m----> <a href='vscode-notebook-cell:/Users/abigail/Library/Containers/com.tencent.xinWeChat/Data/Library/Application%20Support/com.tencent.xinWeChat/2.0b4.0.9/04b0e17b7f03016212f8381c214cc288/Message/MessageTemp/9e20f478899dc29eb19741386f9343c8/File/Primal_Dual_Code2%281%29.ipynb#X21sZmlsZQ%3D%3D?line=0'>1</a>\u001b[0m _,_, gap \u001b[39m=\u001b[39m dual_progress(x0_far, \u001b[39m1000000\u001b[39m, \u001b[39m6\u001b[39m) \n\u001b[1;32m      <a href='vscode-notebook-cell:/Users/abigail/Library/Containers/com.tencent.xinWeChat/Data/Library/Application%20Support/com.tencent.xinWeChat/2.0b4.0.9/04b0e17b7f03016212f8381c214cc288/Message/MessageTemp/9e20f478899dc29eb19741386f9343c8/File/Primal_Dual_Code2%281%29.ipynb#X21sZmlsZQ%3D%3D?line=1'>2</a>\u001b[0m \u001b[39mprint\u001b[39m(_)\n\u001b[1;32m      <a href='vscode-notebook-cell:/Users/abigail/Library/Containers/com.tencent.xinWeChat/Data/Library/Application%20Support/com.tencent.xinWeChat/2.0b4.0.9/04b0e17b7f03016212f8381c214cc288/Message/MessageTemp/9e20f478899dc29eb19741386f9343c8/File/Primal_Dual_Code2%281%29.ipynb#X21sZmlsZQ%3D%3D?line=2'>3</a>\u001b[0m plt\u001b[39m.\u001b[39mplot(np\u001b[39m.\u001b[39marange(\u001b[39mlen\u001b[39m(gap)), gap, label \u001b[39m=\u001b[39m \u001b[39m'\u001b[39m\u001b[39mdual_update\u001b[39m\u001b[39m'\u001b[39m)\n",
      "\u001b[1;32m/Users/abigail/Library/Containers/com.tencent.xinWeChat/Data/Library/Application Support/com.tencent.xinWeChat/2.0b4.0.9/04b0e17b7f03016212f8381c214cc288/Message/MessageTemp/9e20f478899dc29eb19741386f9343c8/File/Primal_Dual_Code2(1).ipynb Cell 15\u001b[0m line \u001b[0;36m9\n\u001b[1;32m      <a href='vscode-notebook-cell:/Users/abigail/Library/Containers/com.tencent.xinWeChat/Data/Library/Application%20Support/com.tencent.xinWeChat/2.0b4.0.9/04b0e17b7f03016212f8381c214cc288/Message/MessageTemp/9e20f478899dc29eb19741386f9343c8/File/Primal_Dual_Code2%281%29.ipynb#X21sZmlsZQ%3D%3D?line=6'>7</a>\u001b[0m grad \u001b[39m=\u001b[39m subgradient(x\u001b[39m=\u001b[39mx)\n\u001b[1;32m      <a href='vscode-notebook-cell:/Users/abigail/Library/Containers/com.tencent.xinWeChat/Data/Library/Application%20Support/com.tencent.xinWeChat/2.0b4.0.9/04b0e17b7f03016212f8381c214cc288/Message/MessageTemp/9e20f478899dc29eb19741386f9343c8/File/Primal_Dual_Code2%281%29.ipynb#X21sZmlsZQ%3D%3D?line=7'>8</a>\u001b[0m x \u001b[39m=\u001b[39m x \u001b[39m-\u001b[39m \u001b[39m1\u001b[39m\u001b[39m/\u001b[39m((i\u001b[39m+\u001b[39m\u001b[39m1\u001b[39m) \u001b[39m*\u001b[39m(rho_hat \u001b[39m-\u001b[39mrho)) \u001b[39m*\u001b[39m grad\n\u001b[0;32m----> <a href='vscode-notebook-cell:/Users/abigail/Library/Containers/com.tencent.xinWeChat/Data/Library/Application%20Support/com.tencent.xinWeChat/2.0b4.0.9/04b0e17b7f03016212f8381c214cc288/Message/MessageTemp/9e20f478899dc29eb19741386f9343c8/File/Primal_Dual_Code2%281%29.ipynb#X21sZmlsZQ%3D%3D?line=8'>9</a>\u001b[0m mk \u001b[39m=\u001b[39m m_k(x \u001b[39m=\u001b[39m x, x_history\u001b[39m=\u001b[39m x_history, k \u001b[39m=\u001b[39m i)\n\u001b[1;32m     <a href='vscode-notebook-cell:/Users/abigail/Library/Containers/com.tencent.xinWeChat/Data/Library/Application%20Support/com.tencent.xinWeChat/2.0b4.0.9/04b0e17b7f03016212f8381c214cc288/Message/MessageTemp/9e20f478899dc29eb19741386f9343c8/File/Primal_Dual_Code2%281%29.ipynb#X21sZmlsZQ%3D%3D?line=9'>10</a>\u001b[0m x_history\u001b[39m.\u001b[39mappend(x)\n\u001b[1;32m     <a href='vscode-notebook-cell:/Users/abigail/Library/Containers/com.tencent.xinWeChat/Data/Library/Application%20Support/com.tencent.xinWeChat/2.0b4.0.9/04b0e17b7f03016212f8381c214cc288/Message/MessageTemp/9e20f478899dc29eb19741386f9343c8/File/Primal_Dual_Code2%281%29.ipynb#X21sZmlsZQ%3D%3D?line=10'>11</a>\u001b[0m fun_val \u001b[39m=\u001b[39m function_val(x\u001b[39m=\u001b[39mx)\n",
      "\u001b[1;32m/Users/abigail/Library/Containers/com.tencent.xinWeChat/Data/Library/Application Support/com.tencent.xinWeChat/2.0b4.0.9/04b0e17b7f03016212f8381c214cc288/Message/MessageTemp/9e20f478899dc29eb19741386f9343c8/File/Primal_Dual_Code2(1).ipynb Cell 15\u001b[0m line \u001b[0;36m5\n\u001b[1;32m      <a href='vscode-notebook-cell:/Users/abigail/Library/Containers/com.tencent.xinWeChat/Data/Library/Application%20Support/com.tencent.xinWeChat/2.0b4.0.9/04b0e17b7f03016212f8381c214cc288/Message/MessageTemp/9e20f478899dc29eb19741386f9343c8/File/Primal_Dual_Code2%281%29.ipynb#X21sZmlsZQ%3D%3D?line=2'>3</a>\u001b[0m Sk \u001b[39m=\u001b[39m k \u001b[39m+\u001b[39m \u001b[39m1\u001b[39m\n\u001b[1;32m      <a href='vscode-notebook-cell:/Users/abigail/Library/Containers/com.tencent.xinWeChat/Data/Library/Application%20Support/com.tencent.xinWeChat/2.0b4.0.9/04b0e17b7f03016212f8381c214cc288/Message/MessageTemp/9e20f478899dc29eb19741386f9343c8/File/Primal_Dual_Code2%281%29.ipynb#X21sZmlsZQ%3D%3D?line=3'>4</a>\u001b[0m \u001b[39mfor\u001b[39;00m i \u001b[39min\u001b[39;00m \u001b[39mrange\u001b[39m(k \u001b[39m+\u001b[39m \u001b[39m1\u001b[39m):\n\u001b[0;32m----> <a href='vscode-notebook-cell:/Users/abigail/Library/Containers/com.tencent.xinWeChat/Data/Library/Application%20Support/com.tencent.xinWeChat/2.0b4.0.9/04b0e17b7f03016212f8381c214cc288/Message/MessageTemp/9e20f478899dc29eb19741386f9343c8/File/Primal_Dual_Code2%281%29.ipynb#X21sZmlsZQ%3D%3D?line=4'>5</a>\u001b[0m     mk_sum \u001b[39m+\u001b[39m\u001b[39m=\u001b[39m function_val(x_history[i]) \u001b[39m+\u001b[39m subgradient(x_history[i]) \u001b[39m@\u001b[39m (x \u001b[39m-\u001b[39m  x_history[i]) \u001b[39m-\u001b[39m rho\u001b[39m/\u001b[39m\u001b[39m2\u001b[39m \u001b[39m*\u001b[39m la\u001b[39m.\u001b[39mnorm(x\u001b[39m-\u001b[39mx_history[i])\u001b[39m*\u001b[39m\u001b[39m*\u001b[39m\u001b[39m2\u001b[39m\n\u001b[1;32m      <a href='vscode-notebook-cell:/Users/abigail/Library/Containers/com.tencent.xinWeChat/Data/Library/Application%20Support/com.tencent.xinWeChat/2.0b4.0.9/04b0e17b7f03016212f8381c214cc288/Message/MessageTemp/9e20f478899dc29eb19741386f9343c8/File/Primal_Dual_Code2%281%29.ipynb#X21sZmlsZQ%3D%3D?line=5'>6</a>\u001b[0m mk \u001b[39m=\u001b[39m mk_sum \u001b[39m/\u001b[39m Sk\n\u001b[1;32m      <a href='vscode-notebook-cell:/Users/abigail/Library/Containers/com.tencent.xinWeChat/Data/Library/Application%20Support/com.tencent.xinWeChat/2.0b4.0.9/04b0e17b7f03016212f8381c214cc288/Message/MessageTemp/9e20f478899dc29eb19741386f9343c8/File/Primal_Dual_Code2%281%29.ipynb#X21sZmlsZQ%3D%3D?line=6'>7</a>\u001b[0m \u001b[39mreturn\u001b[39;00m mk\n",
      "File \u001b[0;32m~/miniconda3/lib/python3.11/site-packages/numpy/linalg/linalg.py:2552\u001b[0m, in \u001b[0;36mnorm\u001b[0;34m(x, ord, axis, keepdims)\u001b[0m\n\u001b[1;32m   2550\u001b[0m     sqnorm \u001b[39m=\u001b[39m x_real\u001b[39m.\u001b[39mdot(x_real) \u001b[39m+\u001b[39m x_imag\u001b[39m.\u001b[39mdot(x_imag)\n\u001b[1;32m   2551\u001b[0m \u001b[39melse\u001b[39;00m:\n\u001b[0;32m-> 2552\u001b[0m     sqnorm \u001b[39m=\u001b[39m x\u001b[39m.\u001b[39mdot(x)\n\u001b[1;32m   2553\u001b[0m ret \u001b[39m=\u001b[39m sqrt(sqnorm)\n\u001b[1;32m   2554\u001b[0m \u001b[39mif\u001b[39;00m keepdims:\n",
      "\u001b[0;31mKeyboardInterrupt\u001b[0m: "
     ]
    }
   ],
   "source": [
    "_,_, gap = dual_progress(x0_far, 1000000, 6) \n",
    "print(_)\n",
    "plt.plot(np.arange(len(gap)), gap, label = 'dual_update')\n",
    "plt.grid(True)\n",
    "plt.ylabel(\"dual gap\")\n",
    "plt.xlabel(\"iterations\")\n",
    "plt.title('Trajectory')\n",
    "plt.legend()"
   ]
  }
 ],
 "metadata": {
  "kernelspec": {
   "display_name": "Python 3",
   "language": "python",
   "name": "python3"
  },
  "language_info": {
   "codemirror_mode": {
    "name": "ipython",
    "version": 3
   },
   "file_extension": ".py",
   "mimetype": "text/x-python",
   "name": "python",
   "nbconvert_exporter": "python",
   "pygments_lexer": "ipython3",
   "version": "3.11.4"
  }
 },
 "nbformat": 4,
 "nbformat_minor": 2
}
